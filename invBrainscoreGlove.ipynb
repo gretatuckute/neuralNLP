{
 "cells": [
  {
   "cell_type": "code",
   "execution_count": 1,
   "metadata": {},
   "outputs": [],
   "source": [
    "# Load the results file in the brainmodeling env from openmind\n",
    "\n",
    "import pickle\n",
    "\n",
    "with open('benchmark=Pereira2018-encoding-min,model=glove,subsample=None,bold_shift=4.pkl', 'rb') as f:  \n",
    "    result = pickle.load(f)"
   ]
  },
  {
   "cell_type": "code",
   "execution_count": 3,
   "metadata": {},
   "outputs": [
    {
     "name": "stdout",
     "output_type": "stream",
     "text": [
      "{'data': <xarray.Score (aggregation: 2)>\n",
      "array([0.097419, 0.005213])\n",
      "Coordinates:\n",
      "  * aggregation  (aggregation) <U6 'center' 'error'\n",
      "Attributes:\n",
      "    raw:      <xarray.Score (layer: 1, subject: 1, split: 2, neuroid: 170712)...}\n"
     ]
    }
   ],
   "source": [
    "print(result)"
   ]
  },
  {
   "cell_type": "code",
   "execution_count": 14,
   "metadata": {},
   "outputs": [
    {
     "name": "stdout",
     "output_type": "stream",
     "text": [
      "Keys:  dict_keys(['data']) \n",
      " \n",
      "Values:  dict_values([<xarray.Score (aggregation: 2)>\n",
      "array([0.097419, 0.005213])\n",
      "Coordinates:\n",
      "  * aggregation  (aggregation) <U6 'center' 'error'\n",
      "Attributes:\n",
      "    raw:      <xarray.Score (layer: 1, subject: 1, split: 2, neuroid: 170712)...])\n"
     ]
    }
   ],
   "source": [
    "print('Keys: ', result.keys(), '\\n \\nValues: ', result.values())"
   ]
  },
  {
   "cell_type": "code",
   "execution_count": 15,
   "metadata": {},
   "outputs": [],
   "source": [
    "data = result['data']"
   ]
  },
  {
   "cell_type": "code",
   "execution_count": 16,
   "metadata": {},
   "outputs": [
    {
     "data": {
      "text/plain": [
       "<xarray.Score (aggregation: 2)>\n",
       "array([0.097419, 0.005213])\n",
       "Coordinates:\n",
       "  * aggregation  (aggregation) <U6 'center' 'error'\n",
       "Attributes:\n",
       "    raw:      <xarray.Score (layer: 1, subject: 1, split: 2, neuroid: 170712)..."
      ]
     },
     "execution_count": 16,
     "metadata": {},
     "output_type": "execute_result"
    }
   ],
   "source": [
    "data"
   ]
  },
  {
   "cell_type": "code",
   "execution_count": 19,
   "metadata": {},
   "outputs": [
    {
     "data": {
      "text/plain": [
       "<xarray.Score (layer: 1, subject: 1, split: 2, neuroid: 170712)>\n",
       "array([[[[ 0.008134, ...,  0.263516],\n",
       "         [-0.065592, ...,  0.025747]]]])\n",
       "Coordinates:\n",
       "  * split          (split) int64 0 1\n",
       "  * neuroid        (neuroid) MultiIndex\n",
       "  - voxel_num      (neuroid) int64 0 1 10 100 ... 100019 10002 100020 100021\n",
       "  - AAL_roi_index  (neuroid) int64 0 0 0 0 103 91 63 63 ... 18 18 18 18 91 18 18\n",
       "  - neuroid_id     (neuroid) object 'M02.0' 'M02.1' ... 'M02.100021'\n",
       "  - subject        (neuroid) object 'M02' 'M02' 'M02' ... 'M02' 'M02' 'M02'\n",
       "  * layer          (layer) <U10 'projection'\n",
       "Dimensions without coordinates: subject"
      ]
     },
     "execution_count": 19,
     "metadata": {},
     "output_type": "execute_result"
    }
   ],
   "source": [
    "data.raw"
   ]
  },
  {
   "cell_type": "code",
   "execution_count": 21,
   "metadata": {},
   "outputs": [
    {
     "name": "stderr",
     "output_type": "stream",
     "text": [
      "/om/user/gretatu/.conda/envs/brainmodeling/lib/python3.6/site-packages/brainscore/metrics/__init__.py:49: UserWarning: isel on raw values failed: ValueError(\"dimensions ['aggregation'] do not exist\",)\n",
      "  warnings.warn(f\"{operation} on raw values failed: {repr(e)}\")\n"
     ]
    },
    {
     "data": {
      "text/plain": [
       "<xarray.Score ()>\n",
       "array(0.097419)\n",
       "Coordinates:\n",
       "    aggregation  <U6 'center'\n",
       "Attributes:\n",
       "    raw:      <xarray.Score (layer: 1, subject: 1, split: 2, neuroid: 170712)..."
      ]
     },
     "execution_count": 21,
     "metadata": {},
     "output_type": "execute_result"
    }
   ],
   "source": [
    "# Score results\n",
    "\n",
    "data[0]"
   ]
  },
  {
   "cell_type": "code",
   "execution_count": 22,
   "metadata": {},
   "outputs": [
    {
     "data": {
      "text/plain": [
       "<xarray.Score ()>\n",
       "array(0.005213)\n",
       "Coordinates:\n",
       "    aggregation  <U6 'error'\n",
       "Attributes:\n",
       "    raw:      <xarray.Score (layer: 1, subject: 1, split: 2, neuroid: 170712)..."
      ]
     },
     "execution_count": 22,
     "metadata": {},
     "output_type": "execute_result"
    }
   ],
   "source": [
    "data[1]"
   ]
  },
  {
   "cell_type": "code",
   "execution_count": null,
   "metadata": {},
   "outputs": [],
   "source": []
  },
  {
   "cell_type": "code",
   "execution_count": null,
   "metadata": {},
   "outputs": [],
   "source": []
  }
 ],
 "metadata": {
  "kernelspec": {
   "display_name": "Python 3",
   "language": "python",
   "name": "python3"
  },
  "language_info": {
   "codemirror_mode": {
    "name": "ipython",
    "version": 3
   },
   "file_extension": ".py",
   "mimetype": "text/x-python",
   "name": "python",
   "nbconvert_exporter": "python",
   "pygments_lexer": "ipython3",
   "version": "3.6.2"
  }
 },
 "nbformat": 4,
 "nbformat_minor": 2
}
